{
 "cells": [
  {
   "cell_type": "code",
   "execution_count": 2,
   "metadata": {},
   "outputs": [
    {
     "name": "stdout",
     "output_type": "stream",
     "text": [
      "                                               Title   Label\n",
      "0  ABD Başkanı Trump ve destekçilerinin Rabia işa...  YANLIŞ\n",
      "1              Fotoğrafta Atatürk'ün güldüğü iddiası  YANLIŞ\n",
      "2  İsrail Başkonsolosluğu’nda ateş yakıldığını gö...  YANLIŞ\n",
      "3  Afişin 2022 Dünya Kupası’ndaki yasakları göste...  YANLIŞ\n",
      "4  İYİ Parti'de istifalar: Buğra Kavuncu ve Burak...   DOĞRU\n"
     ]
    }
   ],
   "source": [
    "import pandas as pd\n",
    "\n",
    "df = pd.read_csv(\"all_news.csv\")\n",
    "\n",
    "# Veri kümesini kontrol ediyorum\n",
    "print(df.head())"
   ]
  },
  {
   "cell_type": "code",
   "execution_count": 3,
   "metadata": {},
   "outputs": [
    {
     "name": "stdout",
     "output_type": "stream",
     "text": [
      "Title    0\n",
      "Label    0\n",
      "dtype: int64\n"
     ]
    }
   ],
   "source": [
    "# Eksik değerleri kontrol ediyorum\n",
    "print(df.isnull().sum())\n",
    "\n",
    "# Eksik değerleri dolduruyorum ya da kaldırıyorum\n",
    "df = df.dropna()"
   ]
  },
  {
   "cell_type": "code",
   "execution_count": 4,
   "metadata": {},
   "outputs": [
    {
     "name": "stdout",
     "output_type": "stream",
     "text": [
      "                                               Title   Label\n",
      "0  ABD Başkanı Trump ve destekçilerinin Rabia işa...  YANLIŞ\n",
      "1              Fotoğrafta Atatürk'ün güldüğü iddiası  YANLIŞ\n",
      "2  İsrail Başkonsolosluğu’nda ateş yakıldığını gö...  YANLIŞ\n",
      "3  Afişin 2022 Dünya Kupası’ndaki yasakları göste...  YANLIŞ\n",
      "4  İYİ Parti'de istifalar: Buğra Kavuncu ve Burak...   DOĞRU\n"
     ]
    }
   ],
   "source": [
    "# Label sütunu boş olan satırlarda hem Label hem de Title sütunlarını siliyoruz\n",
    "df = df[df['Label'].notnull()]\n",
    "\n",
    "# Sonucu kontrol ediyoruz\n",
    "print(df.head())"
   ]
  },
  {
   "cell_type": "code",
   "execution_count": 5,
   "metadata": {},
   "outputs": [
    {
     "name": "stdout",
     "output_type": "stream",
     "text": [
      "Empty DataFrame\n",
      "Columns: [Title, Label]\n",
      "Index: []\n"
     ]
    }
   ],
   "source": [
    "df = pd.read_csv(\"all_news.csv\")\n",
    "\n",
    "# \"DOĞRU\" ve \"YANLIŞ\" dışındaki etiketleri filtreliyoruz\n",
    "other_labels = df[~df['Label'].str.contains('DOĞRU|YANLIŞ', case=False, na=False)]\n",
    "\n",
    "# Bu satırları yazdırıyoruz, ilk 50 tanesini\n",
    "print(other_labels[['Title', 'Label']].head(50))\n",
    "# 'Label' sütunundaki boşlukları temizliyoruz\n",
    "df['Label'] = df['Label'].str.strip()"
   ]
  },
  {
   "cell_type": "code",
   "execution_count": 6,
   "metadata": {},
   "outputs": [],
   "source": [
    "#Metinlerin ön işlemi için kütüphaneler\n",
    "import re\n",
    "from nltk.corpus import stopwords\n",
    "from nltk.stem import WordNetLemmatizer\n",
    "import nltk\n",
    "from sklearn.preprocessing import LabelEncoder"
   ]
  },
  {
   "cell_type": "code",
   "execution_count": 7,
   "metadata": {},
   "outputs": [
    {
     "name": "stderr",
     "output_type": "stream",
     "text": [
      "[nltk_data] Downloading package stopwords to C:\\Users\\Şerife\n",
      "[nltk_data]     Gökdaş\\AppData\\Roaming\\nltk_data...\n",
      "[nltk_data]   Package stopwords is already up-to-date!\n",
      "[nltk_data] Downloading package wordnet to C:\\Users\\Şerife\n",
      "[nltk_data]     Gökdaş\\AppData\\Roaming\\nltk_data...\n",
      "[nltk_data]   Package wordnet is already up-to-date!\n"
     ]
    },
    {
     "data": {
      "text/plain": [
       "True"
      ]
     },
     "execution_count": 7,
     "metadata": {},
     "output_type": "execute_result"
    }
   ],
   "source": [
    "# Gerekli NLTK verilerini indir\n",
    "import nltk\n",
    "nltk.download('stopwords')\n",
    "nltk.download('wordnet')"
   ]
  },
  {
   "cell_type": "code",
   "execution_count": 8,
   "metadata": {},
   "outputs": [],
   "source": [
    "# Stopwords ve lemmatizer tanımla\n",
    "STOPWORDS = set(stopwords.words('turkish'))\n",
    "STOPWORDS.add('mi') \n",
    "lemmatizer = WordNetLemmatizer()"
   ]
  },
  {
   "cell_type": "code",
   "execution_count": 9,
   "metadata": {},
   "outputs": [],
   "source": [
    "# Ön işleme fonksiyonu\n",
    "def preprocess_text(text):\n",
    "    # Küçük harfe çevir\n",
    "    text = text.lower()\n",
    "    # Noktalama işaretlerini kaldır\n",
    "    text = re.sub(r'[^\\w\\s]', '', text)\n",
    "    # Stopwords kaldır ve lemmatization uygula\n",
    "    text = \" \".join([lemmatizer.lemmatize(word) for word in text.split() if word not in STOPWORDS])\n",
    "    return text"
   ]
  },
  {
   "cell_type": "code",
   "execution_count": 10,
   "metadata": {},
   "outputs": [],
   "source": [
    "# CSV dosyasını oku\n",
    "df = pd.read_csv('all_news.csv')\n",
    "# Metinleri temizle\n",
    "df['cleaned_text'] = df['Title'].apply(preprocess_text)"
   ]
  },
  {
   "cell_type": "code",
   "execution_count": 11,
   "metadata": {},
   "outputs": [
    {
     "name": "stdout",
     "output_type": "stream",
     "text": [
      "0    0\n",
      "1    0\n",
      "2    0\n",
      "3    0\n",
      "4    1\n",
      "Name: Label, dtype: int64\n"
     ]
    }
   ],
   "source": [
    "# Label sütununu sayısal değerlere çevirmek\n",
    "label_encoder = LabelEncoder()\n",
    "df['Label'] = label_encoder.fit_transform(df['Label'])\n",
    "\n",
    "# Dönüştürme sonrasında ters çevirme\n",
    "df['Label'] = df['Label'].map({0: 1, 1: 0})  # 0 -> 1, 1 -> 0 \n",
    "\n",
    "# Etiket sınıfını kontrol et\n",
    "print(df['Label'].head())"
   ]
  },
  {
   "cell_type": "code",
   "execution_count": 12,
   "metadata": {},
   "outputs": [],
   "source": [
    "# Temizlenmiş metin ve Label sütununu seçerek yeni bir dosya oluştur\n",
    "df_cleaned = df[['cleaned_text', 'Label']]\n",
    "df_cleaned.columns = ['Title', 'Label']  # Sütun isimlerini uygun şekilde düzenle"
   ]
  },
  {
   "cell_type": "code",
   "execution_count": 14,
   "metadata": {},
   "outputs": [
    {
     "name": "stdout",
     "output_type": "stream",
     "text": [
      "                                               Title  Label\n",
      "0  abd başkanı trump destekçilerinin rabia işaret...      0\n",
      "1               fotoğrafta atatürkün güldüğü iddiası      0\n",
      "2  israil başkonsolosluğunda ateş yakıldığını gös...      0\n",
      "3  afişin 2022 dünya kupasındaki yasakları göster...      0\n",
      "4  iyi partide istifalar buğra kavuncu burak akbu...      1\n"
     ]
    }
   ],
   "source": [
    "# Yeni CSV dosyasına sadece 'Title' ve 'Label' sütunlarını kaydet\n",
    "df_cleaned.to_csv('data_all_news.csv', index=False, encoding='utf-8')\n",
    "\n",
    "# İlk birkaç satırı kontrol et\n",
    "print(df_cleaned.head())"
   ]
  },
  {
   "cell_type": "code",
   "execution_count": 15,
   "metadata": {},
   "outputs": [
    {
     "name": "stdout",
     "output_type": "stream",
     "text": [
      "[('iddiası', 3692), ('bir', 1282), ('gösterdiği', 1166), ('gösteriyor', 989), ('video', 839), ('olduğu', 809), ('videonun', 618), ('fotoğrafın', 538), ('fotoğraf', 391), ('gerçek', 333), ('yeni', 297), ('ait', 290), ('güncel', 252), ('kişi', 248), ('doğru', 240), ('türkiye', 240), ('gösteren', 225), ('edilen', 224), ('iddia', 209), ('istanbul', 196)]\n"
     ]
    }
   ],
   "source": [
    "#Title sayısallaştırmadan önce max_words değerime karar vermek için\n",
    "import pandas as pd\n",
    "\n",
    "# CSV dosyasını yükleyin\n",
    "df = pd.read_csv('data_all_news.csv')\n",
    "\n",
    "# Kelimelerin sıklığını incelemek\n",
    "from collections import Counter\n",
    "all_words = [word for text in df['Title'] for word in text.split()]\n",
    "word_counts = Counter(all_words)\n",
    "\n",
    "# En yaygın 20 kelimeyi görmek\n",
    "print(word_counts.most_common(20))\n",
    "#çıktıya göre max_words 1500 olarak belirleyebilirim"
   ]
  },
  {
   "cell_type": "code",
   "execution_count": 16,
   "metadata": {},
   "outputs": [
    {
     "name": "stdout",
     "output_type": "stream",
     "text": [
      "500 kelime ile toplam kelime frekansının %38.58'i kapsanıyor.\n",
      "1000 kelime ile toplam kelime frekansının %48.47'i kapsanıyor.\n",
      "1500 kelime ile toplam kelime frekansının %55.19'i kapsanıyor.\n",
      "2000 kelime ile toplam kelime frekansının %60.30'i kapsanıyor.\n"
     ]
    }
   ],
   "source": [
    "import numpy as np\n",
    "from collections import Counter\n",
    "\n",
    "# Kelime frekanslarını hesapla\n",
    "all_words = [word for text in df['Title'] for word in text.split()]\n",
    "word_counts = Counter(all_words)\n",
    "\n",
    "# Kelime frekanslarını sıralayıp birikimli toplamını al\n",
    "word_freq = [count for _, count in word_counts.most_common()]\n",
    "cumulative_freq = np.cumsum(word_freq)\n",
    "total_words = sum(word_freq)\n",
    "\n",
    "# Belirli max_words için kapsanan yüzdeyi göster\n",
    "for max_words in [500, 1000, 1500, 2000]:\n",
    "    coverage = (cumulative_freq[max_words-1] / total_words) * 100\n",
    "    print(f\"{max_words} kelime ile toplam kelime frekansının %{coverage:.2f}'i kapsanıyor.\")"
   ]
  },
  {
   "cell_type": "code",
   "execution_count": 17,
   "metadata": {},
   "outputs": [
    {
     "name": "stdout",
     "output_type": "stream",
     "text": [
      "count    12723.000000\n",
      "mean         8.370824\n",
      "std          2.708271\n",
      "min          1.000000\n",
      "25%          7.000000\n",
      "50%          8.000000\n",
      "75%         10.000000\n",
      "max         25.000000\n",
      "Name: title_length, dtype: float64\n"
     ]
    },
    {
     "data": {
      "image/png": "[encoded data removed]",
      "text/plain": [
       "<Figure size 640x480 with 1 Axes>"
      ]
     },
     "metadata": {},
     "output_type": "display_data"
    }
   ],
   "source": [
    "#Title sayısallaştırmadan önce max_len değerime karar vermek için\n",
    "import pandas as pd\n",
    "\n",
    "# CSV dosyasını yükle\n",
    "df = pd.read_csv(\"data_all_news.csv\")\n",
    "\n",
    "# Başlıkların uzunluklarını hesaplama (kelime sayısı)\n",
    "df['title_length'] = df['Title'].apply(lambda x: len(x.split()))\n",
    "\n",
    "# Uzunlukların istatistiklerini görmek\n",
    "print(df['title_length'].describe())\n",
    "\n",
    "# Başlık uzunluklarının dağılımını görmek için\n",
    "import matplotlib.pyplot as plt\n",
    "plt.hist(df['title_length'], bins=30, color='skyblue', edgecolor='black')\n",
    "plt.title('Başlık Uzunluğu Dağılımı')\n",
    "plt.xlabel('Başlık Uzunluğu (Kelime Sayısı)')\n",
    "plt.ylabel('Frekans')\n",
    "plt.show()\n",
    "#çıktıya göre max_len 15 olarak belirleyebilirim"
   ]
  },
  {
   "cell_type": "code",
   "execution_count": null,
   "metadata": {},
   "outputs": [],
   "source": [
    "#tokenizer_data.ipynb da tokenizer işlemleri yapıldı."
   ]
  }
 ],
 "metadata": {
  "kernelspec": {
   "display_name": "Python 3",
   "language": "python",
   "name": "python3"
  },
  "language_info": {
   "codemirror_mode": {
    "name": "ipython",
    "version": 3
   },
   "file_extension": ".py",
   "mimetype": "text/x-python",
   "name": "python",
   "nbconvert_exporter": "python",
   "pygments_lexer": "ipython3",
   "version": "3.13.0"
  }
 },
 "nbformat": 4,
 "nbformat_minor": 2
}
