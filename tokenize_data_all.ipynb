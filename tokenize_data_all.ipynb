{
 "cells": [
  {
   "cell_type": "code",
   "execution_count": 1,
   "metadata": {},
   "outputs": [
    {
     "ename": "",
     "evalue": "",
     "output_type": "error",
     "traceback": [
      "\u001b[1;31mThe Kernel crashed while executing code in the current cell or a previous cell. \n",
      "\u001b[1;31mPlease review the code in the cell(s) to identify a possible cause of the failure. \n",
      "\u001b[1;31mClick <a href='https://aka.ms/vscodeJupyterKernelCrash'>here</a> for more info. \n",
      "\u001b[1;31mView Jupyter <a href='command:jupyter.viewOutput'>log</a> for further details."
     ]
    }
   ],
   "source": [
    "import pickle\n",
    "import pandas as pd\n",
    "import fasttext\n",
    "import numpy as np\n",
    "import os\n",
    "\n",
    "# CSV dosyasını yükleme\n",
    "print(\"CSV dosyası yükleniyor...\")\n",
    "df = pd.read_csv(\"data_all_news.csv\")\n",
    "print(f\"CSV dosyası başarıyla yüklendi. Toplam satır sayısı: {len(df)}\")\n",
    "\n",
    "# FastText modelini yükleme\n",
    "print(\"FastText modeli yükleniyor...\")\n",
    "fasttext.FastText.eprint = lambda x: None\n",
    "model = fasttext.load_model('models/cc.tr.300.bin')  # Türkçe FastText modeli\n",
    "print(\"FastText modeli başarıyla yüklendi.\")\n",
    "\n",
    "# Kelime vektörlerini önceden hesaplama\n",
    "print(\"Modelden kelime vektörleri çekiliyor...\")\n",
    "word_vectors = {word: model.get_word_vector(word) for word in model.get_words()}\n",
    "print(f\"Toplam kelime vektörü sayısı: {len(word_vectors)}\")\n",
    "\n",
    "# Haber başlıklarını vektörleme\n",
    "def fasttext_vectorize(text, word_vectors, dim=300):\n",
    "    words = text.split()\n",
    "    vectors = [word_vectors[word] for word in words if word in word_vectors]\n",
    "    return np.mean(vectors, axis=0) if vectors else np.zeros(dim)\n",
    "\n",
    "# Parça başına işleme ve kaydetme\n",
    "batch_size = 100\n",
    "output_file = \"fasttext_vectors.pkl\"\n",
    "\n",
    "# Eğer çıktı dosyası varsa kaldığımız yerden devam etmek için yükleme\n",
    "if os.path.exists(output_file):\n",
    "    print(\"Mevcut çıktı dosyası bulunuyor. İşlem kaldığı yerden devam edecek...\")\n",
    "    with open(output_file, \"rb\") as file:\n",
    "        existing_data = pickle.load(file)\n",
    "        X, y = existing_data\n",
    "        X, y = list(X), list(y)  # Listeye çevirip ekleme yapacağız\n",
    "    processed_count = len(X)\n",
    "    print(f\"{processed_count} başlık daha önce işlenmiş.\")\n",
    "else:\n",
    "    print(\"Yeni işlem başlatılıyor...\")\n",
    "    X, y = [], []\n",
    "    processed_count = 0\n",
    "\n",
    "# İşleme devam et\n",
    "print(\"Başlıklar işleniyor...\")\n",
    "for i in range(processed_count, len(df), batch_size):\n",
    "    batch = df.iloc[i:i+batch_size]\n",
    "    print(f\"Batch işlemi başlıyor: {i} - {i + len(batch)}\")\n",
    "    batch_vectors = [fasttext_vectorize(title, word_vectors) for title in batch['Title']]\n",
    "    X.extend(batch_vectors)\n",
    "    y.extend(batch['Label'])\n",
    "    print(f\"Batch tamamlandı: {i} - {i + len(batch)}. Şimdi dosyaya kaydediliyor...\")\n",
    "\n",
    "    # Her batch sonrası dosyayı güncelleme\n",
    "    with open(output_file, \"wb\") as file:\n",
    "        pickle.dump((X, y), file)\n",
    "    print(f\"Batch dosyaya kaydedildi: {i} - {i + len(batch)}\")\n",
    "\n",
    "print(\"Tüm veriler başarıyla işlendi ve kaydedildi.\")\n"
   ]
  },
  {
   "cell_type": "code",
   "execution_count": null,
   "metadata": {},
   "outputs": [],
   "source": [
    "from sklearn.model_selection import train_test_split\n",
    "\n",
    "# PKL dosyasını yükleme\n",
    "with open(\"fasttext_vectors.pkl\", \"rb\") as file:\n",
    "    X, y = pickle.load(file)\n",
    "\n",
    "# Eğitim ve test veri setlerine ayırma\n",
    "X_train, X_test, y_train, y_test = train_test_split(X, y, test_size=0.2, random_state=42)\n",
    "\n",
    "print(\"Eğitim verisi boyutu:\", X_train.shape)\n",
    "print(\"Test verisi boyutu:\", X_test.shape)\n"
   ]
  }
 ],
 "metadata": {
  "kernelspec": {
   "display_name": "Python 3",
   "language": "python",
   "name": "python3"
  },
  "language_info": {
   "codemirror_mode": {
    "name": "ipython",
    "version": 3
   },
   "file_extension": ".py",
   "mimetype": "text/x-python",
   "name": "python",
   "nbconvert_exporter": "python",
   "pygments_lexer": "ipython3",
   "version": "3.10.10"
  }
 },
 "nbformat": 4,
 "nbformat_minor": 2
}
