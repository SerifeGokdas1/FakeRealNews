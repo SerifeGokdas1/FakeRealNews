{
 "cells": [
  {
   "cell_type": "code",
   "execution_count": null,
   "metadata": {},
   "outputs": [],
   "source": [
    "from sklearn.ensemble import RandomForestClassifier\n",
    "from sklearn.metrics import accuracy_score, confusion_matrix, classification_report, roc_auc_score, roc_curve\n",
    "import seaborn as sns\n",
    "import matplotlib.pyplot as plt\n",
    "\n",
    "# Random Forest modeli oluşturma\n",
    "rf_model = RandomForestClassifier(n_estimators=100, random_state=42)\n",
    "\n",
    "# Modeli eğitme\n",
    "rf_model.fit(X_train, y_train)\n",
    "\n",
    "# Test verisi üzerinde tahmin yapma\n",
    "y_pred = rf_model.predict(X_test)\n",
    "\n",
    "# Modelin doğruluğunu hesaplama\n",
    "accuracy = accuracy_score(y_test, y_pred)\n",
    "print(f\"Random Forest Model Accuracy: {accuracy:.2f}\")\n",
    "\n",
    "# Detaylı rapor (Precision, Recall, F1-Score)\n",
    "print(\"\\nClassification Report:\")\n",
    "print(classification_report(y_test, y_pred, target_names=[\"Class 0\", \"Class 1\"]))\n",
    "\n",
    "# Karmaşıklık matrisi oluşturma ve görselleştirme\n",
    "conf_matrix = confusion_matrix(y_test, y_pred)\n",
    "plt.figure(figsize=(8, 6))\n",
    "sns.heatmap(conf_matrix, annot=True, fmt='d', cmap='Greens', xticklabels=[\"Class 0\", \"Class 1\"], yticklabels=[\"Class 0\", \"Class 1\"])\n",
    "plt.xlabel(\"Predicted\")\n",
    "plt.ylabel(\"Actual\")\n",
    "plt.title(\"Confusion Matrix for Random Forest\")\n",
    "plt.show()\n",
    "\n",
    "# ROC-AUC Hesaplama ve Grafik (İkili sınıflandırma kontrolü)\n",
    "if len(set(y_test)) == 2:  # Yalnızca ikili sınıflandırma için geçerli\n",
    "    y_pred_proba = rf_model.predict_proba(X_test)[:, 1]  # Pozitif sınıf için olasılık tahmini\n",
    "    roc_auc = roc_auc_score(y_test, y_pred_proba)\n",
    "    fpr, tpr, thresholds = roc_curve(y_test, y_pred_proba)\n",
    "    plt.figure(figsize=(8, 6))\n",
    "    plt.plot(fpr, tpr, label=f\"ROC-AUC: {roc_auc:.2f}\")\n",
    "    plt.plot([0, 1], [0, 1], 'k--', label=\"Random Guess\")\n",
    "    plt.xlabel(\"False Positive Rate\")\n",
    "    plt.ylabel(\"True Positive Rate\")\n",
    "    plt.title(\"Random Forest - ROC Curve\")\n",
    "    plt.legend()\n",
    "    plt.show()\n"
   ]
  }
 ],
 "metadata": {
  "language_info": {
   "name": "python"
  }
 },
 "nbformat": 4,
 "nbformat_minor": 2
}
