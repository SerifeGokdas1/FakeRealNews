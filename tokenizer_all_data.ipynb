{
 "cells": [
  {
   "cell_type": "code",
   "execution_count": 8,
   "metadata": {},
   "outputs": [
    {
     "name": "stdout",
     "output_type": "stream",
     "text": [
      "Found 22440 unique tokens.\n",
      "   word_1  word_2  word_3  word_4  word_5  word_6  word_7  word_8  word_9  \\\n",
      "0       0       0       0       0       0       0       0      47      25   \n",
      "1       0       0       0       0       0       0       0       0       0   \n",
      "2       0       0       0       0       0       0       0       0      26   \n",
      "3       0       0       0       0       0       0       0       0       1   \n",
      "4       0       0       0       0       0       0      99     810       1   \n",
      "\n",
      "   word_10  word_11  word_12  word_13  word_14  word_15  Label  \n",
      "0      393        1        1        1       81        2      0  \n",
      "1        0        0      699      380        1        2      0  \n",
      "2        1      381        1       18        6       14      0  \n",
      "3      536       53        1        1        4        2      0  \n",
      "4        1        1        1        1        1        1      1  \n"
     ]
    }
   ],
   "source": [
    "#Title tokenize etme yani sayısallaştırma \n",
    "import pandas as pd\n",
    "from tensorflow.keras.preprocessing.text import Tokenizer\n",
    "from tensorflow.keras.preprocessing.sequence import pad_sequences\n",
    "\n",
    "# CSV dosyasını yükle\n",
    "df = pd.read_csv(\"data_all_news.csv\")\n",
    "\n",
    "# Tokenizer nesnesini oluşturma\n",
    "max_words = 1500  # En fazla 2500 kelimeyi dikkate alır\n",
    "oov_tok = \"<OOV>\"  # Sözlükte olmayan kelimeler için kullanılacak token\n",
    "tokenizer = Tokenizer(num_words=max_words, oov_token=oov_tok)\n",
    "\n",
    "# 'Title' sütunundaki haber başlıkları ile tokenizer'ı eğitiyoruz\n",
    "tokenizer.fit_on_texts(df['Title'])\n",
    "\n",
    "# Başlıkları sayısal dizilere dönüştürme\n",
    "sequences = tokenizer.texts_to_sequences(df['Title'])\n",
    "\n",
    "# Kelime sözlüğünü almak\n",
    "word_index = tokenizer.word_index\n",
    "print(\"Found %s unique tokens.\" % len(word_index))\n",
    "\n",
    "# Dizileri aynı uzunlukta olacak şekilde doldurmak\n",
    "max_len = 15  # Başlıkların uzunluğunu 20 kelimeye sabitliyoruz\n",
    "X_pad = pad_sequences(sequences, maxlen=max_len)\n",
    "\n",
    "# Etiketleri (Label) numpy dizisine dönüştürün\n",
    "y = df['Label'].values\n",
    "\n",
    "# X_pad ve y'yi birleştirerek yeni bir DataFrame oluştur\n",
    "df_padded = pd.DataFrame(X_pad, columns=[f\"word_{i+1}\" for i in range(max_len)])\n",
    "\n",
    "# Etiketleri ekleyelim\n",
    "df_padded['Label'] = y\n",
    "\n",
    "# Yeni veriyi yeni bir CSV dosyasına kaydedelim\n",
    "df_padded.to_csv('data_all_with_tokenized_titles.csv', index=False)\n",
    "\n",
    "# İlk birkaç satırı kontrol et\n",
    "print(df_padded.head())"
   ]
  },
  {
   "cell_type": "code",
   "execution_count": 9,
   "metadata": {},
   "outputs": [
    {
     "name": "stdout",
     "output_type": "stream",
     "text": [
      "Shape of X_train: (10178, 15)\n",
      "Shape of y_train: (10178, 2)\n",
      "Shape of X_test: (2545, 15)\n",
      "Shape of y_test: (2545, 2)\n"
     ]
    }
   ],
   "source": [
    "from sklearn.model_selection import train_test_split\n",
    "from tensorflow.keras.utils import to_categorical  \n",
    "\n",
    "# Eğitim ve test verilerini ayırma\n",
    "X_train, X_test, y_train, y_test = train_test_split(X_pad, y, test_size=0.2, random_state=0)\n",
    "\n",
    "# Etiketleri one-hot encode etme (eğer daha önce yapılmadıysa)\n",
    "y_train = to_categorical(y_train)\n",
    "y_test = to_categorical(y_test)\n",
    "\n",
    "# Eğitim ve test setlerinin boyutlarını kontrol etme\n",
    "print(\"Shape of X_train:\", X_train.shape) #Eğitim verisinin boyutları\n",
    "print(\"Shape of y_train:\", y_train.shape) #her etiket iki kategoriye ( 0 ve 1) dönüştürüldü\n",
    "print(\"Shape of X_test:\", X_test.shape)   #Test verisinin boyutu\n",
    "print(\"Shape of y_test:\", y_test.shape)   #2 kategori "
   ]
  },
  {
   "cell_type": "code",
   "execution_count": 10,
   "metadata": {},
   "outputs": [],
   "source": [
    "#https://fasttext.cc/docs/en/crawl-vectors.html bu siteden direkt .bin.gz uzantılı Türkçe klasörünü indirmen lazım . sonra pip install fasttext\n",
    "#Türkçe FastText Modeliyle Vektörleri Yükleme\n",
    "import fasttext\n",
    "import numpy as np\n",
    "fasttext.FastText.eprint = lambda x: None"
   ]
  },
  {
   "cell_type": "code",
   "execution_count": 11,
   "metadata": {},
   "outputs": [],
   "source": [
    "# FastText modelini yükleme\n",
    "model = fasttext.load_model('models/cc.tr.300.bin')"
   ]
  },
  {
   "cell_type": "code",
   "execution_count": 12,
   "metadata": {},
   "outputs": [],
   "source": [
    "# Vektör boyutu\n",
    "embedding_dim = 300  # FastText'in Türkçe modeli 300 boyutlu vektörler kullanır"
   ]
  },
  {
   "cell_type": "code",
   "execution_count": 13,
   "metadata": {},
   "outputs": [],
   "source": [
    "# Embedding index oluşturma\n",
    "embeddings_index = {}"
   ]
  },
  {
   "cell_type": "code",
   "execution_count": 14,
   "metadata": {},
   "outputs": [],
   "source": [
    "# Verilerdeki her kelimenin vektörünü alın\n",
    "for word in model.get_words():\n",
    "    embeddings_index[word] = model.get_word_vector(word)"
   ]
  },
  {
   "cell_type": "code",
   "execution_count": 16,
   "metadata": {},
   "outputs": [],
   "source": [
    "# Veriyi Hazırlama ve Embedding Matrisi Oluşturma\n",
    "# Embedding matrisi oluşturma (tüm kelimeler için)\n",
    "embedding_matrix = np.zeros((len(word_index) + 1, embedding_dim))\n",
    "for word, i in word_index.items():\n",
    "    embedding_vector = embeddings_index.get(word)\n",
    "    if embedding_vector is not None:\n",
    "        embedding_matrix[i] = embedding_vector"
   ]
  },
  {
   "cell_type": "code",
   "execution_count": 17,
   "metadata": {},
   "outputs": [],
   "source": [
    "#Modeli Kurma ve Eğitim\n",
    "import tensorflow as tf\n",
    "from tensorflow.keras.models import Sequential\n",
    "from tensorflow.keras.layers import Embedding, Dropout, Conv1D, MaxPooling1D, LSTM, Dense"
   ]
  },
  {
   "cell_type": "code",
   "execution_count": 23,
   "metadata": {},
   "outputs": [],
   "source": [
    "# Modeli oluşturma\n",
    "#Girdi olarak kelime dizilerini alır ve her kelimeyi embedding vektörüne dönüştürür.\n",
    "\n",
    "# Modeli oluşturma\n",
    "model = Sequential([\n",
    "    Embedding(input_dim=len(word_index) + 1, \n",
    "              output_dim=embedding_dim, \n",
    "              input_length=max_len, \n",
    "              weights=[embedding_matrix], \n",
    "              trainable=False),\n",
    "    Dropout(0.2),                                                          # Aşırı öğrenmeyi (overfitting) engeller\n",
    "    Conv1D(128, 5, activation='relu'),                                     #bir kelime grubunun belirli bir sınıfla ilişkili olup olmadığını öğrenir.\n",
    "    MaxPooling1D(pool_size=4),                                             #Özellik haritasının boyutunu küçültmek ve en belirgin özellikleri seçmek.\n",
    "    Dropout(0.2),                                                          # Aşırı öğrenmeyi engellemek için nöronların %20'sini rastgele devre dışı bırakır.\n",
    "    LSTM(128),                                                             #  Sekans verilerinde uzun vadeli ilişkileri öğrenir. \n",
    "    Dense(2, activation='softmax')                                         # Her girdinin 5 sınıftan birine ait olma olasılığını verir.\n",
    "])"
   ]
  },
  {
   "cell_type": "code",
   "execution_count": 24,
   "metadata": {},
   "outputs": [
    {
     "data": {
      "text/html": [
       "<pre style=\"white-space:pre;overflow-x:auto;line-height:normal;font-family:Menlo,'DejaVu Sans Mono',consolas,'Courier New',monospace\"><span style=\"font-weight: bold\">Model: \"sequential\"</span>\n",
       "</pre>\n"
      ],
      "text/plain": [
       "\u001b[1mModel: \"sequential\"\u001b[0m\n"
      ]
     },
     "metadata": {},
     "output_type": "display_data"
    },
    {
     "data": {
      "text/html": [
       "<pre style=\"white-space:pre;overflow-x:auto;line-height:normal;font-family:Menlo,'DejaVu Sans Mono',consolas,'Courier New',monospace\">┏━━━━━━━━━━━━━━━━━━━━━━━━━━━━━━━━━┳━━━━━━━━━━━━━━━━━━━━━━━━┳━━━━━━━━━━━━━━━┓\n",
       "┃<span style=\"font-weight: bold\"> Layer (type)                    </span>┃<span style=\"font-weight: bold\"> Output Shape           </span>┃<span style=\"font-weight: bold\">       Param # </span>┃\n",
       "┡━━━━━━━━━━━━━━━━━━━━━━━━━━━━━━━━━╇━━━━━━━━━━━━━━━━━━━━━━━━╇━━━━━━━━━━━━━━━┩\n",
       "│ embedding_2 (<span style=\"color: #0087ff; text-decoration-color: #0087ff\">Embedding</span>)         │ ?                      │     <span style=\"color: #00af00; text-decoration-color: #00af00\">6,732,300</span> │\n",
       "├─────────────────────────────────┼────────────────────────┼───────────────┤\n",
       "│ dropout (<span style=\"color: #0087ff; text-decoration-color: #0087ff\">Dropout</span>)               │ ?                      │             <span style=\"color: #00af00; text-decoration-color: #00af00\">0</span> │\n",
       "├─────────────────────────────────┼────────────────────────┼───────────────┤\n",
       "│ conv1d (<span style=\"color: #0087ff; text-decoration-color: #0087ff\">Conv1D</span>)                 │ ?                      │   <span style=\"color: #00af00; text-decoration-color: #00af00\">0</span> (unbuilt) │\n",
       "├─────────────────────────────────┼────────────────────────┼───────────────┤\n",
       "│ max_pooling1d (<span style=\"color: #0087ff; text-decoration-color: #0087ff\">MaxPooling1D</span>)    │ ?                      │             <span style=\"color: #00af00; text-decoration-color: #00af00\">0</span> │\n",
       "├─────────────────────────────────┼────────────────────────┼───────────────┤\n",
       "│ dropout_1 (<span style=\"color: #0087ff; text-decoration-color: #0087ff\">Dropout</span>)             │ ?                      │             <span style=\"color: #00af00; text-decoration-color: #00af00\">0</span> │\n",
       "├─────────────────────────────────┼────────────────────────┼───────────────┤\n",
       "│ lstm (<span style=\"color: #0087ff; text-decoration-color: #0087ff\">LSTM</span>)                     │ ?                      │   <span style=\"color: #00af00; text-decoration-color: #00af00\">0</span> (unbuilt) │\n",
       "├─────────────────────────────────┼────────────────────────┼───────────────┤\n",
       "│ dense (<span style=\"color: #0087ff; text-decoration-color: #0087ff\">Dense</span>)                   │ ?                      │   <span style=\"color: #00af00; text-decoration-color: #00af00\">0</span> (unbuilt) │\n",
       "└─────────────────────────────────┴────────────────────────┴───────────────┘\n",
       "</pre>\n"
      ],
      "text/plain": [
       "┏━━━━━━━━━━━━━━━━━━━━━━━━━━━━━━━━━┳━━━━━━━━━━━━━━━━━━━━━━━━┳━━━━━━━━━━━━━━━┓\n",
       "┃\u001b[1m \u001b[0m\u001b[1mLayer (type)                   \u001b[0m\u001b[1m \u001b[0m┃\u001b[1m \u001b[0m\u001b[1mOutput Shape          \u001b[0m\u001b[1m \u001b[0m┃\u001b[1m \u001b[0m\u001b[1m      Param #\u001b[0m\u001b[1m \u001b[0m┃\n",
       "┡━━━━━━━━━━━━━━━━━━━━━━━━━━━━━━━━━╇━━━━━━━━━━━━━━━━━━━━━━━━╇━━━━━━━━━━━━━━━┩\n",
       "│ embedding_2 (\u001b[38;5;33mEmbedding\u001b[0m)         │ ?                      │     \u001b[38;5;34m6,732,300\u001b[0m │\n",
       "├─────────────────────────────────┼────────────────────────┼───────────────┤\n",
       "│ dropout (\u001b[38;5;33mDropout\u001b[0m)               │ ?                      │             \u001b[38;5;34m0\u001b[0m │\n",
       "├─────────────────────────────────┼────────────────────────┼───────────────┤\n",
       "│ conv1d (\u001b[38;5;33mConv1D\u001b[0m)                 │ ?                      │   \u001b[38;5;34m0\u001b[0m (unbuilt) │\n",
       "├─────────────────────────────────┼────────────────────────┼───────────────┤\n",
       "│ max_pooling1d (\u001b[38;5;33mMaxPooling1D\u001b[0m)    │ ?                      │             \u001b[38;5;34m0\u001b[0m │\n",
       "├─────────────────────────────────┼────────────────────────┼───────────────┤\n",
       "│ dropout_1 (\u001b[38;5;33mDropout\u001b[0m)             │ ?                      │             \u001b[38;5;34m0\u001b[0m │\n",
       "├─────────────────────────────────┼────────────────────────┼───────────────┤\n",
       "│ lstm (\u001b[38;5;33mLSTM\u001b[0m)                     │ ?                      │   \u001b[38;5;34m0\u001b[0m (unbuilt) │\n",
       "├─────────────────────────────────┼────────────────────────┼───────────────┤\n",
       "│ dense (\u001b[38;5;33mDense\u001b[0m)                   │ ?                      │   \u001b[38;5;34m0\u001b[0m (unbuilt) │\n",
       "└─────────────────────────────────┴────────────────────────┴───────────────┘\n"
      ]
     },
     "metadata": {},
     "output_type": "display_data"
    },
    {
     "data": {
      "text/html": [
       "<pre style=\"white-space:pre;overflow-x:auto;line-height:normal;font-family:Menlo,'DejaVu Sans Mono',consolas,'Courier New',monospace\"><span style=\"font-weight: bold\"> Total params: </span><span style=\"color: #00af00; text-decoration-color: #00af00\">6,732,300</span> (25.68 MB)\n",
       "</pre>\n"
      ],
      "text/plain": [
       "\u001b[1m Total params: \u001b[0m\u001b[38;5;34m6,732,300\u001b[0m (25.68 MB)\n"
      ]
     },
     "metadata": {},
     "output_type": "display_data"
    },
    {
     "data": {
      "text/html": [
       "<pre style=\"white-space:pre;overflow-x:auto;line-height:normal;font-family:Menlo,'DejaVu Sans Mono',consolas,'Courier New',monospace\"><span style=\"font-weight: bold\"> Trainable params: </span><span style=\"color: #00af00; text-decoration-color: #00af00\">0</span> (0.00 B)\n",
       "</pre>\n"
      ],
      "text/plain": [
       "\u001b[1m Trainable params: \u001b[0m\u001b[38;5;34m0\u001b[0m (0.00 B)\n"
      ]
     },
     "metadata": {},
     "output_type": "display_data"
    },
    {
     "data": {
      "text/html": [
       "<pre style=\"white-space:pre;overflow-x:auto;line-height:normal;font-family:Menlo,'DejaVu Sans Mono',consolas,'Courier New',monospace\"><span style=\"font-weight: bold\"> Non-trainable params: </span><span style=\"color: #00af00; text-decoration-color: #00af00\">6,732,300</span> (25.68 MB)\n",
       "</pre>\n"
      ],
      "text/plain": [
       "\u001b[1m Non-trainable params: \u001b[0m\u001b[38;5;34m6,732,300\u001b[0m (25.68 MB)\n"
      ]
     },
     "metadata": {},
     "output_type": "display_data"
    }
   ],
   "source": [
    "# Modeli derleme\n",
    "model.compile(loss='categorical_crossentropy', optimizer='adam', metrics=['accuracy'])\n",
    "model.summary()"
   ]
  },
  {
   "cell_type": "code",
   "execution_count": 25,
   "metadata": {},
   "outputs": [
    {
     "name": "stdout",
     "output_type": "stream",
     "text": [
      "Epoch 1/5\n",
      "\u001b[1m160/160\u001b[0m \u001b[32m━━━━━━━━━━━━━━━━━━━━\u001b[0m\u001b[37m\u001b[0m \u001b[1m48s\u001b[0m 174ms/step - accuracy: 0.6544 - loss: 0.5844 - val_accuracy: 0.7851 - val_loss: 0.4481\n",
      "Epoch 2/5\n",
      "\u001b[1m160/160\u001b[0m \u001b[32m━━━━━━━━━━━━━━━━━━━━\u001b[0m\u001b[37m\u001b[0m \u001b[1m26s\u001b[0m 66ms/step - accuracy: 0.8040 - loss: 0.4084 - val_accuracy: 0.8031 - val_loss: 0.4149\n",
      "Epoch 3/5\n",
      "\u001b[1m160/160\u001b[0m \u001b[32m━━━━━━━━━━━━━━━━━━━━\u001b[0m\u001b[37m\u001b[0m \u001b[1m21s\u001b[0m 68ms/step - accuracy: 0.8196 - loss: 0.3735 - val_accuracy: 0.8063 - val_loss: 0.4000\n",
      "Epoch 4/5\n",
      "\u001b[1m160/160\u001b[0m \u001b[32m━━━━━━━━━━━━━━━━━━━━\u001b[0m\u001b[37m\u001b[0m \u001b[1m12s\u001b[0m 72ms/step - accuracy: 0.8392 - loss: 0.3414 - val_accuracy: 0.8071 - val_loss: 0.4169\n",
      "Epoch 5/5\n",
      "\u001b[1m160/160\u001b[0m \u001b[32m━━━━━━━━━━━━━━━━━━━━\u001b[0m\u001b[37m\u001b[0m \u001b[1m21s\u001b[0m 72ms/step - accuracy: 0.8548 - loss: 0.3148 - val_accuracy: 0.8185 - val_loss: 0.3850\n"
     ]
    }
   ],
   "source": [
    "#Modeli Eğitme\n",
    "history = model.fit(X_train, y_train, epochs=5, batch_size=64, validation_data=(X_test, y_test))"
   ]
  },
  {
   "cell_type": "code",
   "execution_count": 26,
   "metadata": {},
   "outputs": [
    {
     "name": "stdout",
     "output_type": "stream",
     "text": [
      "Epoch 1/10\n",
      "\u001b[1m160/160\u001b[0m \u001b[32m━━━━━━━━━━━━━━━━━━━━\u001b[0m\u001b[37m\u001b[0m \u001b[1m22s\u001b[0m 137ms/step - accuracy: 0.8715 - loss: 0.2810 - val_accuracy: 0.8228 - val_loss: 0.3806\n",
      "Epoch 2/10\n",
      "\u001b[1m160/160\u001b[0m \u001b[32m━━━━━━━━━━━━━━━━━━━━\u001b[0m\u001b[37m\u001b[0m \u001b[1m42s\u001b[0m 138ms/step - accuracy: 0.8672 - loss: 0.2842 - val_accuracy: 0.8200 - val_loss: 0.3938\n",
      "Epoch 3/10\n",
      "\u001b[1m160/160\u001b[0m \u001b[32m━━━━━━━━━━━━━━━━━━━━\u001b[0m\u001b[37m\u001b[0m \u001b[1m38s\u001b[0m 118ms/step - accuracy: 0.8817 - loss: 0.2650 - val_accuracy: 0.8165 - val_loss: 0.4204\n",
      "Epoch 4/10\n",
      "\u001b[1m160/160\u001b[0m \u001b[32m━━━━━━━━━━━━━━━━━━━━\u001b[0m\u001b[37m\u001b[0m \u001b[1m21s\u001b[0m 122ms/step - accuracy: 0.8893 - loss: 0.2460 - val_accuracy: 0.8145 - val_loss: 0.4465\n",
      "Epoch 5/10\n",
      "\u001b[1m160/160\u001b[0m \u001b[32m━━━━━━━━━━━━━━━━━━━━\u001b[0m\u001b[37m\u001b[0m \u001b[1m22s\u001b[0m 128ms/step - accuracy: 0.8807 - loss: 0.2512 - val_accuracy: 0.8114 - val_loss: 0.4304\n",
      "Epoch 6/10\n",
      "\u001b[1m160/160\u001b[0m \u001b[32m━━━━━━━━━━━━━━━━━━━━\u001b[0m\u001b[37m\u001b[0m \u001b[1m23s\u001b[0m 145ms/step - accuracy: 0.8944 - loss: 0.2386 - val_accuracy: 0.8169 - val_loss: 0.4393\n",
      "Epoch 7/10\n",
      "\u001b[1m160/160\u001b[0m \u001b[32m━━━━━━━━━━━━━━━━━━━━\u001b[0m\u001b[37m\u001b[0m \u001b[1m39s\u001b[0m 133ms/step - accuracy: 0.8956 - loss: 0.2205 - val_accuracy: 0.8004 - val_loss: 0.5374\n",
      "Epoch 8/10\n",
      "\u001b[1m160/160\u001b[0m \u001b[32m━━━━━━━━━━━━━━━━━━━━\u001b[0m\u001b[37m\u001b[0m \u001b[1m45s\u001b[0m 157ms/step - accuracy: 0.8996 - loss: 0.2211 - val_accuracy: 0.8236 - val_loss: 0.4528\n",
      "Epoch 9/10\n",
      "\u001b[1m160/160\u001b[0m \u001b[32m━━━━━━━━━━━━━━━━━━━━\u001b[0m\u001b[37m\u001b[0m \u001b[1m38s\u001b[0m 132ms/step - accuracy: 0.8989 - loss: 0.2220 - val_accuracy: 0.8157 - val_loss: 0.5061\n",
      "Epoch 10/10\n",
      "\u001b[1m160/160\u001b[0m \u001b[32m━━━━━━━━━━━━━━━━━━━━\u001b[0m\u001b[37m\u001b[0m \u001b[1m42s\u001b[0m 133ms/step - accuracy: 0.9046 - loss: 0.2083 - val_accuracy: 0.8236 - val_loss: 0.4557\n"
     ]
    }
   ],
   "source": [
    "#epochsu 10 yaptım\n",
    "history = model.fit(X_train, y_train, epochs=10, batch_size=64, validation_data=(X_test, y_test))"
   ]
  },
  {
   "cell_type": "code",
   "execution_count": 27,
   "metadata": {},
   "outputs": [
    {
     "name": "stdout",
     "output_type": "stream",
     "text": [
      "Epoch 1/15\n",
      "\u001b[1m160/160\u001b[0m \u001b[32m━━━━━━━━━━━━━━━━━━━━\u001b[0m\u001b[37m\u001b[0m \u001b[1m23s\u001b[0m 144ms/step - accuracy: 0.9064 - loss: 0.1982 - val_accuracy: 0.8220 - val_loss: 0.4994\n",
      "Epoch 2/15\n",
      "\u001b[1m160/160\u001b[0m \u001b[32m━━━━━━━━━━━━━━━━━━━━\u001b[0m\u001b[37m\u001b[0m \u001b[1m49s\u001b[0m 189ms/step - accuracy: 0.9083 - loss: 0.1974 - val_accuracy: 0.8204 - val_loss: 0.4917\n",
      "Epoch 3/15\n",
      "\u001b[1m160/160\u001b[0m \u001b[32m━━━━━━━━━━━━━━━━━━━━\u001b[0m\u001b[37m\u001b[0m \u001b[1m48s\u001b[0m 221ms/step - accuracy: 0.9118 - loss: 0.1925 - val_accuracy: 0.8189 - val_loss: 0.4938\n",
      "Epoch 4/15\n",
      "\u001b[1m160/160\u001b[0m \u001b[32m━━━━━━━━━━━━━━━━━━━━\u001b[0m\u001b[37m\u001b[0m \u001b[1m36s\u001b[0m 183ms/step - accuracy: 0.9101 - loss: 0.1912 - val_accuracy: 0.8212 - val_loss: 0.4861\n",
      "Epoch 5/15\n",
      "\u001b[1m160/160\u001b[0m \u001b[32m━━━━━━━━━━━━━━━━━━━━\u001b[0m\u001b[37m\u001b[0m \u001b[1m54s\u001b[0m 265ms/step - accuracy: 0.9074 - loss: 0.1942 - val_accuracy: 0.8220 - val_loss: 0.5140\n",
      "Epoch 6/15\n",
      "\u001b[1m160/160\u001b[0m \u001b[32m━━━━━━━━━━━━━━━━━━━━\u001b[0m\u001b[37m\u001b[0m \u001b[1m75s\u001b[0m 215ms/step - accuracy: 0.9087 - loss: 0.1909 - val_accuracy: 0.8149 - val_loss: 0.5831\n",
      "Epoch 7/15\n",
      "\u001b[1m160/160\u001b[0m \u001b[32m━━━━━━━━━━━━━━━━━━━━\u001b[0m\u001b[37m\u001b[0m \u001b[1m38s\u001b[0m 196ms/step - accuracy: 0.9162 - loss: 0.1762 - val_accuracy: 0.8141 - val_loss: 0.5710\n"
     ]
    }
   ],
   "source": [
    "from tensorflow.keras.callbacks import EarlyStopping\n",
    "\n",
    "# EarlyStopping callback fonksiyonu\n",
    "early_stopping = EarlyStopping(monitor='val_loss',  # 'val_loss' veya 'val_accuracy' seçebilirsiniz\n",
    "                               patience=3,  # 3 epok boyunca gelişme olmazsa durdurur\n",
    "                               restore_best_weights=True)  # En iyi ağırlıkları geri yükler\n",
    "history = model.fit(X_train, y_train, epochs=15, batch_size=64, \n",
    "                    validation_data=(X_test, y_test), \n",
    "                    callbacks=[early_stopping])\n",
    "#Eğitim doğruluğu (accuracy) sürekli artmakta ve eğitim kaybı (loss) düşmektedir. Ancak doğrulama verileri üzerinde modelin performansı sabit veya kötüleşiyor."
   ]
  },
  {
   "cell_type": "code",
   "execution_count": 34,
   "metadata": {},
   "outputs": [
    {
     "data": {
      "image/png": "[encoded data removed]",
      "text/plain": [
       "<Figure size 640x480 with 1 Axes>"
      ]
     },
     "metadata": {},
     "output_type": "display_data"
    }
   ],
   "source": [
    "import matplotlib.pyplot as plt\n",
    "# Eğitim ve doğrulama doğruluğunu görselleştirme\n",
    "plt.plot(history.history['accuracy'], label='Eğitim Doğruluğu')\n",
    "plt.plot(history.history['val_accuracy'], label='Doğrulama Doğruluğu')\n",
    "plt.title('Model Doğruluğu')\n",
    "plt.xlabel('Epok')\n",
    "plt.ylabel('Doğruluk')\n",
    "plt.legend(loc='best')\n",
    "plt.show()"
   ]
  },
  {
   "cell_type": "code",
   "execution_count": 35,
   "metadata": {},
   "outputs": [
    {
     "data": {
      "image/png": "[encoded data removed]",
      "text/plain": [
       "<Figure size 640x480 with 1 Axes>"
      ]
     },
     "metadata": {},
     "output_type": "display_data"
    }
   ],
   "source": [
    "# Eğitim ve doğrulama kaybını görselleştirme\n",
    "plt.plot(history.history['loss'], label='Eğitim Kaybı')\n",
    "plt.plot(history.history['val_loss'], label='Doğrulama Kaybı')\n",
    "plt.title('Model Kaybı')\n",
    "plt.xlabel('Epok')\n",
    "plt.ylabel('Kayıp')\n",
    "plt.legend(loc='best')\n",
    "plt.show()"
   ]
  },
  {
   "cell_type": "code",
   "execution_count": 33,
   "metadata": {},
   "outputs": [],
   "source": [
    "#Doğrulama verisinde iyileşme devam etmediği için overfitting riski yüksek olduğundan eğitimi sonlandırıyorum burada."
   ]
  },
  {
   "cell_type": "code",
   "execution_count": 37,
   "metadata": {},
   "outputs": [
    {
     "name": "stdout",
     "output_type": "stream",
     "text": [
      "\u001b[1m80/80\u001b[0m \u001b[32m━━━━━━━━━━━━━━━━━━━━\u001b[0m\u001b[37m\u001b[0m \u001b[1m4s\u001b[0m 50ms/step - accuracy: 0.8227 - loss: 0.4742\n",
      "Test accuracy: 0.8212180733680725\n",
      "Test score: 0.48612287640571594\n"
     ]
    }
   ],
   "source": [
    "loss, acc = model.evaluate(X_test, y_test)\n",
    "print('Test accuracy:', acc)\n",
    "print('Test score:', loss)\n"
   ]
  }
 ],
 "metadata": {
  "kernelspec": {
   "display_name": "Python 3",
   "language": "python",
   "name": "python3"
  },
  "language_info": {
   "codemirror_mode": {
    "name": "ipython",
    "version": 3
   },
   "file_extension": ".py",
   "mimetype": "text/x-python",
   "name": "python",
   "nbconvert_exporter": "python",
   "pygments_lexer": "ipython3",
   "version": "3.10.10"
  }
 },
 "nbformat": 4,
 "nbformat_minor": 2
}
